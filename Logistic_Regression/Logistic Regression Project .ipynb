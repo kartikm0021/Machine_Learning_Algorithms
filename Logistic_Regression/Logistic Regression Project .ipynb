
<!-- saved from url=(0129)https://distance3.sg.digipen.edu/2020sg-fall/pluginfile.php/68406/mod_resource/content/1/Logistic%20Regression%20Project%20.ipynb -->
<html><script id="tinyhippos-injected">if (window.top.ripple) { window.top.ripple("bootstrap").inject(window, document); }</script><head><meta http-equiv="Content-Type" content="text/html; charset=UTF-8"></head><body>{
 "cells": [
  {
   "cell_type": "markdown",
   "metadata": {},
   "source": [
    "## Ads Click Prediction \n",
    "\n",
    "### Creating a model that will predict whether or not users will click on an ad based off features of that user using fake advertising data set\n",
    "\n",
    "This data set contains the following features:\n",
    "\n",
    "* 'Daily Time Spent on Site': consumer time on site in minutes\n",
    "* 'Age': cutomer age in years\n",
    "* 'Area Income': Avg. Income of geographical area of consumer\n",
    "* 'Daily Internet Usage': Avg. minutes a day consumer is on the internet\n",
    "* 'Ad Topic Line': Headline of the advertisement\n",
    "* 'City': City of consumer\n",
    "* 'Male': Whether or not consumer was male\n",
    "* 'Country': Country of consumer\n",
    "* 'Timestamp': Time at which consumer clicked on Ad or closed window\n",
    "* 'Clicked on Ad': 0 or 1 indicated clicking on Ad"
   ]
  },
  {
   "cell_type": "code",
   "execution_count": 5,
   "metadata": {},
   "outputs": [],
   "source": [
    "import pandas as pd\n",
    "import numpy as np\n",
    "import matplotlib.pyplot as plt\n",
    "import seaborn as sns\n",
    "%matplotlib inline"
   ]
  },
  {
   "cell_type": "markdown",
   "metadata": {
    "collapsed": true
   },
   "source": [
    "## Loading the Data"
   ]
  },
  {
   "cell_type": "code",
   "execution_count": 8,
   "metadata": {},
   "outputs": [],
   "source": [
    "ad_data=pd.read_csv(\"advertising.csv\")"
   ]
  },
  {
   "cell_type": "code",
   "execution_count": 9,
   "metadata": {},
   "outputs": [
    {
     "data": {
      "text/html": [
       "<div>\n",
       "<style scoped="">\n",
       "    .dataframe tbody tr th:only-of-type {\n",
       "        vertical-align: middle;\n",
       "    }\n",
       "\n",
       "    .dataframe tbody tr th {\n",
       "        vertical-align: top;\n",
       "    }\n",
       "\n",
       "    .dataframe thead th {\n",
       "        text-align: right;\n",
       "    }\n",
       "</style>\n",
       "\n",
       "  \n",
       "    \n",
       "      \n",
       "      \n",
       "      \n",
       "      \n",
       "      \n",
       "      \n",
       "      \n",
       "      \n",
       "      \n",
       "      \n",
       "      \n",
       "    \n",
       "  \n",
       "  \n",
       "    \n",
       "      \n",
       "      \n",
       "      \n",
       "      \n",
       "      \n",
       "      \n",
       "      \n",
       "      \n",
       "      \n",
       "      \n",
       "      \n",
       "    \n",
       "    \n",
       "      \n",
       "      \n",
       "      \n",
       "      \n",
       "      \n",
       "      \n",
       "      \n",
       "      \n",
       "      \n",
       "      \n",
       "      \n",
       "    \n",
       "    \n",
       "      \n",
       "      \n",
       "      \n",
       "      \n",
       "      \n",
       "      \n",
       "      \n",
       "      \n",
       "      \n",
       "      \n",
       "      \n",
       "    \n",
       "    \n",
       "      \n",
       "      \n",
       "      \n",
       "      \n",
       "      \n",
       "      \n",
       "      \n",
       "      \n",
       "      \n",
       "      \n",
       "      \n",
       "    \n",
       "    \n",
       "      \n",
       "      \n",
       "      \n",
       "      \n",
       "      \n",
       "      \n",
       "      \n",
       "      \n",
       "      \n",
       "      \n",
       "      \n",
       "    \n",
       "  \n",
       "<table border="\&quot;1\&quot;" class="\&quot;dataframe\&quot;"><thead><tr style="\&quot;text-align:" right;\"=""><th></th><th>Daily Time Spent on Site</th><th>Age</th><th>Area Income</th><th>Daily Internet Usage</th><th>Ad Topic Line</th><th>City</th><th>Male</th><th>Country</th><th>Timestamp</th><th>Clicked on Ad</th></tr></thead><tbody><tr><th>0</th><td>68.95</td><td>35</td><td>61833.90</td><td>256.09</td><td>Cloned 5thgeneration orchestration</td><td>Wrightburgh</td><td>0</td><td>Tunisia</td><td>2016-03-27 00:53:11</td><td>0</td></tr><tr><th>1</th><td>80.23</td><td>31</td><td>68441.85</td><td>193.77</td><td>Monitored national standardization</td><td>West Jodi</td><td>1</td><td>Nauru</td><td>2016-04-04 01:39:02</td><td>0</td></tr><tr><th>2</th><td>69.47</td><td>26</td><td>59785.94</td><td>236.50</td><td>Organic bottom-line service-desk</td><td>Davidton</td><td>0</td><td>San Marino</td><td>2016-03-13 20:35:42</td><td>0</td></tr><tr><th>3</th><td>74.15</td><td>29</td><td>54806.18</td><td>245.89</td><td>Triple-buffered reciprocal time-frame</td><td>West Terrifurt</td><td>1</td><td>Italy</td><td>2016-01-10 02:31:19</td><td>0</td></tr><tr><th>4</th><td>68.37</td><td>35</td><td>73889.99</td><td>225.58</td><td>Robust logistical utilization</td><td>South Manuel</td><td>0</td><td>Iceland</td><td>2016-06-03 03:36:18</td><td>0</td></tr></tbody></table>\n",
       "</div>"
      ],
      "text/plain": [
       "   Daily Time Spent on Site  Age  Area Income  Daily Internet Usage  \\\n",
       "0                     68.95   35     61833.90                256.09   \n",
       "1                     80.23   31     68441.85                193.77   \n",
       "2                     69.47   26     59785.94                236.50   \n",
       "3                     74.15   29     54806.18                245.89   \n",
       "4                     68.37   35     73889.99                225.58   \n",
       "\n",
       "                           Ad Topic Line            City  Male     Country  \\\n",
       "0     Cloned 5thgeneration orchestration     Wrightburgh     0     Tunisia   \n",
       "1     Monitored national standardization       West Jodi     1       Nauru   \n",
       "2       Organic bottom-line service-desk        Davidton     0  San Marino   \n",
       "3  Triple-buffered reciprocal time-frame  West Terrifurt     1       Italy   \n",
       "4          Robust logistical utilization    South Manuel     0     Iceland   \n",
       "\n",
       "             Timestamp  Clicked on Ad  \n",
       "0  2016-03-27 00:53:11              0  \n",
       "1  2016-04-04 01:39:02              0  \n",
       "2  2016-03-13 20:35:42              0  \n",
       "3  2016-01-10 02:31:19              0  \n",
       "4  2016-06-03 03:36:18              0  "
      ]
     },
     "execution_count": 9,
     "metadata": {},
     "output_type": "execute_result"
    }
   ],
   "source": [
    "ad_data.head()"
   ]
  },
  {
   "cell_type": "code",
   "execution_count": 10,
   "metadata": {},
   "outputs": [
    {
     "name": "stdout",
     "output_type": "stream",
     "text": [
      "<class 'pandas.core.frame.dataframe'="">\n",
      "RangeIndex: 1000 entries, 0 to 999\n",
      "Data columns (total 10 columns):\n",
      " #   Column                    Non-Null Count  Dtype  \n",
      "---  ------                    --------------  -----  \n",
      " 0   Daily Time Spent on Site  1000 non-null   float64\n",
      " 1   Age                       1000 non-null   int64  \n",
      " 2   Area Income               1000 non-null   float64\n",
      " 3   Daily Internet Usage      1000 non-null   float64\n",
      " 4   Ad Topic Line             1000 non-null   object \n",
      " 5   City                      1000 non-null   object \n",
      " 6   Male                      1000 non-null   int64  \n",
      " 7   Country                   1000 non-null   object \n",
      " 8   Timestamp                 1000 non-null   object \n",
      " 9   Clicked on Ad             1000 non-null   int64  \n",
      "dtypes: float64(3), int64(3), object(4)\n",
      "memory usage: 78.2+ KB\n"
     ]
    }
   ],
   "source": [
    "ad_data.info()"
   ]
  },
  {
   "cell_type": "code",
   "execution_count": 11,
   "metadata": {},
   "outputs": [
    {
     "data": {
      "text/html": [
       "<div>\n",
       "<style scoped="">\n",
       "    .dataframe tbody tr th:only-of-type {\n",
       "        vertical-align: middle;\n",
       "    }\n",
       "\n",
       "    .dataframe tbody tr th {\n",
       "        vertical-align: top;\n",
       "    }\n",
       "\n",
       "    .dataframe thead th {\n",
       "        text-align: right;\n",
       "    }\n",
       "</style>\n",
       "\n",
       "  \n",
       "    \n",
       "      \n",
       "      \n",
       "      \n",
       "      \n",
       "      \n",
       "      \n",
       "      \n",
       "    \n",
       "  \n",
       "  \n",
       "    \n",
       "      \n",
       "      \n",
       "      \n",
       "      \n",
       "      \n",
       "      \n",
       "      \n",
       "    \n",
       "    \n",
       "      \n",
       "      \n",
       "      \n",
       "      \n",
       "      \n",
       "      \n",
       "      \n",
       "    \n",
       "    \n",
       "      \n",
       "      \n",
       "      \n",
       "      \n",
       "      \n",
       "      \n",
       "      \n",
       "    \n",
       "    \n",
       "      \n",
       "      \n",
       "      \n",
       "      \n",
       "      \n",
       "      \n",
       "      \n",
       "    \n",
       "    \n",
       "      \n",
       "      \n",
       "      \n",
       "      \n",
       "      \n",
       "      \n",
       "      \n",
       "    \n",
       "    \n",
       "      \n",
       "      \n",
       "      \n",
       "      \n",
       "      \n",
       "      \n",
       "      \n",
       "    \n",
       "    \n",
       "      \n",
       "      \n",
       "      \n",
       "      \n",
       "      \n",
       "      \n",
       "      \n",
       "    \n",
       "    \n",
       "      \n",
       "      \n",
       "      \n",
       "      \n",
       "      \n",
       "      \n",
       "      \n",
       "    \n",
       "  \n",
       "<table border="\&quot;1\&quot;" class="\&quot;dataframe\&quot;"><thead><tr style="\&quot;text-align:" right;\"=""><th></th><th>Daily Time Spent on Site</th><th>Age</th><th>Area Income</th><th>Daily Internet Usage</th><th>Male</th><th>Clicked on Ad</th></tr></thead><tbody><tr><th>count</th><td>1000.000000</td><td>1000.000000</td><td>1000.000000</td><td>1000.000000</td><td>1000.000000</td><td>1000.00000</td></tr><tr><th>mean</th><td>65.000200</td><td>36.009000</td><td>55000.000080</td><td>180.000100</td><td>0.481000</td><td>0.50000</td></tr><tr><th>std</th><td>15.853615</td><td>8.785562</td><td>13414.634022</td><td>43.902339</td><td>0.499889</td><td>0.50025</td></tr><tr><th>min</th><td>32.600000</td><td>19.000000</td><td>13996.500000</td><td>104.780000</td><td>0.000000</td><td>0.00000</td></tr><tr><th>25%</th><td>51.360000</td><td>29.000000</td><td>47031.802500</td><td>138.830000</td><td>0.000000</td><td>0.00000</td></tr><tr><th>50%</th><td>68.215000</td><td>35.000000</td><td>57012.300000</td><td>183.130000</td><td>0.000000</td><td>0.50000</td></tr><tr><th>75%</th><td>78.547500</td><td>42.000000</td><td>65470.635000</td><td>218.792500</td><td>1.000000</td><td>1.00000</td></tr><tr><th>max</th><td>91.430000</td><td>61.000000</td><td>79484.800000</td><td>269.960000</td><td>1.000000</td><td>1.00000</td></tr></tbody></table>\n",
       "</div>"
      ],
      "text/plain": [
       "       Daily Time Spent on Site          Age   Area Income  \\\n",
       "count               1000.000000  1000.000000   1000.000000   \n",
       "mean                  65.000200    36.009000  55000.000080   \n",
       "std                   15.853615     8.785562  13414.634022   \n",
       "min                   32.600000    19.000000  13996.500000   \n",
       "25%                   51.360000    29.000000  47031.802500   \n",
       "50%                   68.215000    35.000000  57012.300000   \n",
       "75%                   78.547500    42.000000  65470.635000   \n",
       "max                   91.430000    61.000000  79484.800000   \n",
       "\n",
       "       Daily Internet Usage         Male  Clicked on Ad  \n",
       "count           1000.000000  1000.000000     1000.00000  \n",
       "mean             180.000100     0.481000        0.50000  \n",
       "std               43.902339     0.499889        0.50025  \n",
       "min              104.780000     0.000000        0.00000  \n",
       "25%              138.830000     0.000000        0.00000  \n",
       "50%              183.130000     0.000000        0.50000  \n",
       "75%              218.792500     1.000000        1.00000  \n",
       "max              269.960000     1.000000        1.00000  "
      ]
     },
     "execution_count": 11,
     "metadata": {},
     "output_type": "execute_result"
    }
   ],
   "source": [
    "ad_data.describe()"
   ]
  },
  {
   "cell_type": "markdown",
   "metadata": {},
   "source": [
    "## Exploratory Data Analysis\n",
    "\n",
    "using seaborn to explore the data!\n",
    "\n",
    "** Creating a histogram of the Age**"
   ]
  },
  {
   "cell_type": "code",
   "execution_count": 13,
   "metadata": {},
   "outputs": [
    {
     "data": {
      "text/plain": [
       "<matplotlib.axes._subplots.axessubplot at="" 0x7fc4cd876400="">"
      ]
     },
     "execution_count": 13,
     "metadata": {},
     "output_type": "execute_result"
    },
    {
     "data": {
      "image/png": "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\n",
      "text/plain": [
       "<figure size="" 432x288="" with="" 1="" axes="">"
      ]
     },
     "metadata": {
      "needs_background": "light"
     },
     "output_type": "display_data"
    }
   ],
   "source": [
    "ad_data['Age'].hist(bins=30)"
   ]
  },
  {
   "cell_type": "markdown",
   "metadata": {},
   "source": [
    "# Logistic Regression\n"
   ]
  },
  {
   "cell_type": "markdown",
   "metadata": {},
   "source": [
    "** Spliting the data into training set and testing set using train_test_split**"
   ]
  },
  {
   "cell_type": "code",
   "execution_count": 20,
   "metadata": {},
   "outputs": [],
   "source": [
    "import sklearn\n",
    "from sklearn.model_selection import train_test_split"
   ]
  },
  {
   "cell_type": "code",
   "execution_count": 21,
   "metadata": {},
   "outputs": [
    {
     "data": {
      "text/plain": [
       "Index(['Daily Time Spent on Site', 'Age', 'Area Income',\n",
       "       'Daily Internet Usage', 'Ad Topic Line', 'City', 'Male', 'Country',\n",
       "       'Timestamp', 'Clicked on Ad'],\n",
       "      dtype='object')"
      ]
     },
     "execution_count": 21,
     "metadata": {},
     "output_type": "execute_result"
    }
   ],
   "source": [
    "ad_data.columns"
   ]
  },
  {
   "cell_type": "code",
   "execution_count": 22,
   "metadata": {},
   "outputs": [],
   "source": [
    "X = ad_data[['Daily Time Spent on Site', 'Age', 'Area Income','Daily Internet Usage', 'Male']]\n",
    "y = ad_data['Clicked on Ad']"
   ]
  },
  {
   "cell_type": "code",
   "execution_count": 29,
   "metadata": {},
   "outputs": [],
   "source": [
    "X_train, X_test, y_train, y_test = train_test_split(X, y, test_size=0.1, random_state=42)"
   ]
  },
  {
   "cell_type": "markdown",
   "metadata": {},
   "source": [
    "** Training and fitting a logistic regression model on the training set.**"
   ]
  },
  {
   "cell_type": "code",
   "execution_count": 30,
   "metadata": {},
   "outputs": [],
   "source": [
    "from sklearn.linear_model import LogisticRegression"
   ]
  },
  {
   "cell_type": "code",
   "execution_count": 31,
   "metadata": {},
   "outputs": [
    {
     "data": {
      "text/plain": [
       "LogisticRegression()"
      ]
     },
     "execution_count": 31,
     "metadata": {},
     "output_type": "execute_result"
    }
   ],
   "source": [
    "logmodel=LogisticRegression()\n",
    "logmodel.fit(X_train,y_train)"
   ]
  },
  {
   "cell_type": "markdown",
   "metadata": {},
   "source": [
    "## Predictions and Evaluations\n",
    "** Predicting values for the testing data.**"
   ]
  },
  {
   "cell_type": "code",
   "execution_count": 32,
   "metadata": {},
   "outputs": [],
   "source": [
    "predictions=logmodel.predict(X_test)"
   ]
  },
  {
   "cell_type": "markdown",
   "metadata": {},
   "source": [
    "** Creating a classification report for the model.**"
   ]
  },
  {
   "cell_type": "code",
   "execution_count": 33,
   "metadata": {},
   "outputs": [],
   "source": [
    "from sklearn.metrics import classification_report"
   ]
  },
  {
   "cell_type": "code",
   "execution_count": 34,
   "metadata": {},
   "outputs": [
    {
     "name": "stdout",
     "output_type": "stream",
     "text": [
      "              precision    recall  f1-score   support\n",
      "\n",
      "           0       0.84      0.98      0.91        44\n",
      "           1       0.98      0.86      0.91        56\n",
      "\n",
      "    accuracy                           0.91       100\n",
      "   macro avg       0.91      0.92      0.91       100\n",
      "weighted avg       0.92      0.91      0.91       100\n",
      "\n"
     ]
    }
   ],
   "source": [
    "print(classification_report(y_test,predictions))"
   ]
  },
  {
   "cell_type": "code",
   "execution_count": null,
   "metadata": {},
   "outputs": [],
   "source": []
  }
 ],
 "metadata": {
  "kernelspec": {
   "display_name": "Python 3",
   "language": "python",
   "name": "python3"
  },
  "language_info": {
   "codemirror_mode": {
    "name": "ipython",
    "version": 3
   },
   "file_extension": ".py",
   "mimetype": "text/x-python",
   "name": "python",
   "nbconvert_exporter": "python",
   "pygments_lexer": "ipython3",
   "version": "3.8.3"
  }
 },
 "nbformat": 4,
 "nbformat_minor": 1
}
</figure></matplotlib.axes._subplots.axessubplot></class></body></html>