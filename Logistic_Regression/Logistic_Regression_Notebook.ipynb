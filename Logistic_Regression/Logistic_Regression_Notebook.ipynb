{
 "cells": [
  {
   "cell_type": "code",
   "execution_count": 1,
   "metadata": {},
   "outputs": [],
   "source": [
    "import numpy as np\n",
    "from  Logistic_Regression import Logistic_Regression\n"
   ]
  },
  {
   "cell_type": "code",
   "execution_count": 6,
   "metadata": {},
   "outputs": [
    {
     "name": "stdout",
     "output_type": "stream",
     "text": [
      "Loading file data/data_banknote_authentication.txt\n",
      "Loaded file data/data_banknote_authentication.txt with (1372, 5) records\n",
      "Added a new X0 column (1372, 6)\n",
      "Normalized data with X0 column (1372, 6)\n",
      "                           Column            Attribute              Mean                Sum         \n",
      "                            Col1                Col1                1.0                1372.0       \n",
      "                            Col2              Variance       0.5391136632607123  739.6639459936972  \n",
      "                            Col3              Skewness       0.5873013774014062  805.7774897947293  \n",
      "                            Col4              Kurtosis       0.2879241440225198  395.0319255988972  \n",
      "                            Col5              Entropy        0.6689165443643914   917.753498867945  \n",
      "                            Col6               Class         0.4446064139941691        610.0        \n"
     ]
    }
   ],
   "source": [
    "data_file_name = 'data/data_banknote_authentication.txt'\n",
    "# data_file_name = 'data/data_banknote_authentication-copy.txt'\n",
    "classifier = Logistic_Regression(data_file_name)\n",
    "data = classifier.dataLoad(data_file_name)\n",
    "data = classifier.dataNorm(data)\n",
    "classifier.printMeanAndSum(data)"
   ]
  },
  {
   "cell_type": "code",
   "execution_count": 7,
   "metadata": {},
   "outputs": [
    {
     "name": "stdout",
     "output_type": "stream",
     "text": [
      "[[1.         0.76900389 0.83964273 0.10678269 0.73662766 0.        ]\n",
      " [1.         0.83565902 0.82098209 0.12180412 0.64432563 0.        ]\n",
      " [1.         0.78662859 0.41664827 0.31060805 0.78695091 0.        ]\n",
      " [1.         0.75710505 0.87169921 0.05492063 0.45043964 0.        ]\n",
      " [1.         0.53157807 0.34866247 0.42466237 0.6873619  0.        ]]\n"
     ]
    }
   ],
   "source": [
    "print(data[:5,:])\n"
   ]
  },
  {
   "cell_type": "code",
   "execution_count": 7,
   "metadata": {},
   "outputs": [
    {
     "ename": "SyntaxError",
     "evalue": "invalid syntax (<ipython-input-7-2b96279b9d7b>, line 1)",
     "output_type": "error",
     "traceback": [
      "\u001b[1;36m  File \u001b[1;32m\"<ipython-input-7-2b96279b9d7b>\"\u001b[1;36m, line \u001b[1;32m1\u001b[0m\n\u001b[1;33m    $$\\Large 1/N \\sum_{i=0}^{n} (y_i -  \\hat{y_i})^2 $$\u001b[0m\n\u001b[1;37m    ^\u001b[0m\n\u001b[1;31mSyntaxError\u001b[0m\u001b[1;31m:\u001b[0m invalid syntax\n"
     ]
    }
   ],
   "source": [
    "$$\\Large 1/N \\sum_{i=0}^{n} (y_i -  \\hat{y_i})^2 $$ \n",
    "$$ where\\ \\hat{y_i} \\ is\\ the\\ predicted\\ value$$ \n",
    "$$ where\\ N \\ is\\ the\\ number\\ of\\ observations$$"
   ]
  },
  {
   "cell_type": "code",
   "execution_count": null,
   "metadata": {},
   "outputs": [],
   "source": []
  },
  {
   "cell_type": "code",
   "execution_count": null,
   "metadata": {},
   "outputs": [],
   "source": []
  },
  {
   "cell_type": "code",
   "execution_count": null,
   "metadata": {},
   "outputs": [],
   "source": []
  },
  {
   "cell_type": "code",
   "execution_count": null,
   "metadata": {},
   "outputs": [],
   "source": []
  },
  {
   "cell_type": "code",
   "execution_count": null,
   "metadata": {},
   "outputs": [],
   "source": []
  }
 ],
 "metadata": {
  "kernelspec": {
   "display_name": "Python 3",
   "language": "python",
   "name": "python3"
  },
  "language_info": {
   "codemirror_mode": {
    "name": "ipython",
    "version": 3
   },
   "file_extension": ".py",
   "mimetype": "text/x-python",
   "name": "python",
   "nbconvert_exporter": "python",
   "pygments_lexer": "ipython3",
   "version": "3.7.4"
  }
 },
 "nbformat": 4,
 "nbformat_minor": 2
}
